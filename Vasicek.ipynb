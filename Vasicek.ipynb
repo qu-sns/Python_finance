{
 "cells": [
  {
   "cell_type": "code",
   "execution_count": 267,
   "metadata": {},
   "outputs": [],
   "source": [
    "#importation des modules\n",
    "import numpy as np\n",
    "from scipy.optimize import minimize\n",
    "import matplotlib.pyplot as plt\n",
    "import requests  # Connexion à l'API de AlphaVantage"
   ]
  },
  {
   "cell_type": "code",
   "execution_count": 299,
   "metadata": {},
   "outputs": [],
   "source": [
    "#entrée des données\n",
    "# Clé personnelle de l'API AlphaVantage\n",
    "key_API = 'LYMJQ6KR5QPKJ8W3'\n",
    "rate = 'FEDERAL_FUNDS_RATE'   # Choisissez n'importe quel taux\n",
    "url = f'https://www.alphavantage.co/query?function={rate}&interval=monthly&apikey={key_API}'\n",
    "r = requests.get(url)\n",
    "data = r.json()\n",
    "# Accédez à la clé 'data' dans le dictionnaire\n",
    "data = data['data']\n",
    "\n",
    "# Créez un tableau NumPy contenant toutes les valeurs\n",
    "values = np.array([float(entry['value']) for entry in data])"
   ]
  },
  {
   "cell_type": "code",
   "execution_count": 300,
   "metadata": {},
   "outputs": [
    {
     "name": "stdout",
     "output_type": "stream",
     "text": [
      "0.12458611815655554\n"
     ]
    }
   ],
   "source": [
    "# On suppose une volatilité constante (très faux)\n",
    "ecart_type = np.std(values/100)\n",
    "v = ecart_type * np.sqrt(12)\n",
    "print(v)"
   ]
  },
  {
   "cell_type": "markdown",
   "metadata": {},
   "source": [
    "Le modèle de Vasicek est approprié à une évaluation sur le court terme, on va donc récupérer uniquement les 100 dernièrs mois du jeu de données."
   ]
  },
  {
   "cell_type": "code",
   "execution_count": 282,
   "metadata": {},
   "outputs": [],
   "source": [
    "# Traitement des données \n",
    "data_ = values [731:]\n",
    "X_train = data_ [:100]\n",
    "X_test = data_ [50:]"
   ]
  },
  {
   "cell_type": "markdown",
   "metadata": {},
   "source": [
    "**Modèle de Vasicek :**\n",
    "\n",
    "$$drt = a(k - rt)dt + \\sigma dW(t)$$\n",
    "\n",
    "$$r_{t + \\delta} = r_t e^{-a\\delta} + k(1 - e^{-a\\delta}) + \\frac{\\sigma}{\\sqrt{2a}}\\varepsilon, \\quad \\varepsilon \\sim \\mathcal{N}(0, 1)$$\n",
    "\n"
   ]
  },
  {
   "cell_type": "code",
   "execution_count": 283,
   "metadata": {},
   "outputs": [],
   "source": [
    "#loi normale que suit le taux dans le modèle de vasicek\n",
    "\n",
    "def N_(x,a,k,t,r0):\n",
    "    var=np.sqrt((np.square(v)/2*a))\n",
    "    esp=r0*np.exp(-a*t)+k*(1-np.exp(-a*t))\n",
    "    return ((1/(var*np.sqrt(2*np.pi)))*np.exp(-0.5*np.square((x-esp)/var)))"
   ]
  },
  {
   "cell_type": "markdown",
   "metadata": {},
   "source": [
    "**Fonction de Vraisemblance :** (formule cas discret)\n",
    "$$L(a, k) = P(X_1 = x_1) \\cdot P(X_2 = x_2 \\,|\\, X_1 = x_1) \\cdot \\ldots \\cdot P(X_n = x_n \\,|\\, X_{n-1} = x_{n-1})$$\n",
    "\n",
    "**Fonction de log-Vraisemblance :**\n",
    "$$\\ln(L(a, k)) = \\ln(P(X_1 = x_1)) + \\ln(P(X_2 = x_2 | X_1 = x_1)) + \\ldots + \\ln(P(X_n = x_n | X_{n-1} = x_{n-1}))$$\n"
   ]
  },
  {
   "cell_type": "code",
   "execution_count": 284,
   "metadata": {},
   "outputs": [],
   "source": [
    "#définissons maintenant la fonction de log vraisemblance\n",
    "\n",
    "def log_vraisemblance(paramètres, X_train):\n",
    "    a, k = paramètres\n",
    "    S=0\n",
    "    t=1/12\n",
    "    for i in range (len(X_train)-1):\n",
    "        P = N_(X_train[i+1], a, k, t, X_train[i])\n",
    "        S-=np.log(P)\n",
    "    return(S)"
   ]
  },
  {
   "cell_type": "code",
   "execution_count": 285,
   "metadata": {},
   "outputs": [
    {
     "name": "stderr",
     "output_type": "stream",
     "text": [
      "/var/folders/28/1h3z3mcs1gxg23mnjw1zj_n00000gn/T/ipykernel_14516/952324210.py:4: RuntimeWarning: invalid value encountered in sqrt\n",
      "  var=np.sqrt((np.square(v)/2*a))\n",
      "/var/folders/28/1h3z3mcs1gxg23mnjw1zj_n00000gn/T/ipykernel_14516/2276258991.py:9: RuntimeWarning: divide by zero encountered in log\n",
      "  S-=np.log(P)\n"
     ]
    }
   ],
   "source": [
    "# Estimation des paramètres avec la méthode MLE\n",
    "# Contraintes\n",
    "constraints = ({'type': 'ineq', 'fun': lambda params: params[0]},  # a >= 0\n",
    "               {'type': 'ineq', 'fun': lambda params: params[1]})  # k >= 0\n",
    "\n",
    "resultat_estimation = minimize(log_vraisemblance, [5, 1], X_train, constraints=constraints)\n",
    "parametres_estimes = resultat_estimation.x"
   ]
  },
  {
   "cell_type": "code",
   "execution_count": 286,
   "metadata": {},
   "outputs": [
    {
     "name": "stdout",
     "output_type": "stream",
     "text": [
      "Paramètre a estimé :  5.180864046221867\n",
      "Paramètre k estimé :  2.402927913944615\n"
     ]
    }
   ],
   "source": [
    "# Affichage des paramètres estimés\n",
    "a_estime, k_estime = parametres_estimes\n",
    "print(\"Paramètre a estimé : \", a_estime)\n",
    "print(\"Paramètre k estimé : \", k_estime)"
   ]
  },
  {
   "cell_type": "code",
   "execution_count": 297,
   "metadata": {},
   "outputs": [],
   "source": [
    "#simulations de taux aléatoire \n",
    "A = []\n",
    "B = []\n",
    "C = []\n",
    "t = 1/12\n",
    "\n",
    "for k in range (len(X_test)):\n",
    "    var=np.sqrt((np.square(v)/(2*a_estime)))\n",
    "    esp=X_test[k-1]*np.exp(-a_estime*t)+k_estime*(1-np.exp(-a_estime*t))\n",
    "\n",
    "    tirage = np.random.normal(0, 1, 3)\n",
    "    A.append(esp + var*tirage[0])\n",
    "    B.append(esp + var*tirage[1])\n",
    "    C.append(esp + var*tirage[2])\n"
   ]
  },
  {
   "cell_type": "code",
   "execution_count": 298,
   "metadata": {},
   "outputs": [
    {
     "data": {
      "text/plain": [
       "[<matplotlib.lines.Line2D at 0x169fd8fa0>]"
      ]
     },
     "execution_count": 298,
     "metadata": {},
     "output_type": "execute_result"
    },
    {
     "data": {
      "image/png": "[encoded data removed]",
      "text/plain": [
       "<Figure size 640x480 with 1 Axes>"
      ]
     },
     "metadata": {},
     "output_type": "display_data"
    }
   ],
   "source": [
    "# Visualisation\n",
    "abscisse=[i for i in range(len(X_test))]\n",
    "plt.plot(abscisse, X_test, label='Données réelles', color='blue')\n",
    "plt.plot(abscisse, A, label='Simulation 1', color='red')\n",
    "plt.plot(abscisse, B, label='Simulation 2', color='green')\n",
    "plt.plot(abscisse, C, label='Simulation 3', color='yellow')"
   ]
  },
  {
   "cell_type": "markdown",
   "metadata": {},
   "source": [
    "**En conclusion :**\n",
    "\n",
    "On remarque que la forme générale de la courbe des taux est respectée dans les trois simulations. Cependant, il est important de noter quelques irrégularités, notamment au début de la courbe. Ces irrégularités peuvent être attribuées au fait que le modèle de Vasicek est principalement conçu pour modéliser les taux à court terme. En effet le modèle de Vasicek présente une force de rappel vers k, au début de la courbe, le taux a une valeur clairement inférieure à k ce qui explique que la courbe monte au lieu de descendre.\n",
    "\n",
    "Les données que j'ai utilisées sont échantillonnées de manière mensuelle, ce qui peut ne pas être idéal pour ce modèle, et la période sur laquelle les données s'étendent est peut-être trop longue pour une adaptation optimale du modèle."
   ]
  },
  {
   "cell_type": "markdown",
   "metadata": {},
   "source": [
    "**Conclusion (english version) :**\n",
    "\n",
    "We notice that the general shape of the yield curve is maintained in all three simulations. However, it's important to note some irregularities, especially at the beginning of the curve. These irregularities can be attributed to the fact that the Vasicek model is primarily designed to model short-term interest rates. Indeed, the Vasicek model has a mean-reverting feature towards k, and at the beginning of the curve, the rate is clearly below k, which explains why the curve rises instead of declining.\n",
    "\n",
    "The data I used is sampled on a monthly basis, which may not be ideal for this model, and the period over which the data extends may be too long for optimal model adaptation."
   ]
  }
 ],
 "metadata": {
  "kernelspec": {
   "display_name": "Python 3",
   "language": "python",
   "name": "python3"
  },
  "language_info": {
   "codemirror_mode": {
    "name": "ipython",
    "version": 3
   },
   "file_extension": ".py",
   "mimetype": "text/x-python",
   "name": "python",
   "nbconvert_exporter": "python",
   "pygments_lexer": "ipython3",
   "version": "3.9.6"
  }
 },
 "nbformat": 4,
 "nbformat_minor": 2
}
